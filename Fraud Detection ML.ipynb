{
 "cells": [
  {
   "cell_type": "markdown",
   "id": "8309cb0c-6c6d-4860-a3c7-ccb442a63545",
   "metadata": {},
   "source": [
    "***Pandas profiling function to have the overview of the data***"
   ]
  },
  {
   "cell_type": "code",
   "execution_count": 1,
   "id": "42a1d040-87ba-4930-82cb-a7e2a0d75bb3",
   "metadata": {},
   "outputs": [],
   "source": [
    "# !pip install pandas-profiling"
   ]
  },
  {
   "cell_type": "code",
   "execution_count": 2,
   "id": "0ebdd035-f6cd-4cc7-b236-6f32538d9271",
   "metadata": {},
   "outputs": [],
   "source": [
    "import pandas as pd\n",
    "import seaborn as sns\n",
    "import matplotlib.pyplot as plt\n",
    "import numpy as np\n",
    "import numpy as np \n",
    "import warnings \n",
    "import time\n",
    "warnings.filterwarnings('ignore')"
   ]
  },
  {
   "cell_type": "code",
   "execution_count": 3,
   "id": "e0b4157f-d66a-4c86-ae9d-cf7c3752cbf7",
   "metadata": {},
   "outputs": [],
   "source": [
    "df_train = pd.read_csv(\"fraudTrain.csv\")"
   ]
  },
  {
   "cell_type": "code",
   "execution_count": 4,
   "id": "b3b9e69a-58c8-4f9e-9065-db9f5bcaba89",
   "metadata": {},
   "outputs": [],
   "source": [
    "df_test = pd.read_csv(\"fraudTest.csv\")"
   ]
  },
  {
   "cell_type": "code",
   "execution_count": 5,
   "id": "45929f15-89bd-4a20-840d-d02344f91b6d",
   "metadata": {},
   "outputs": [],
   "source": [
    "# from pandas_profiling import ProfileReport\n",
    "# prof = ProfileReport(df_train)\n",
    "# prof"
   ]
  },
  {
   "cell_type": "markdown",
   "id": "a5a6480a-b194-4de3-a12f-3f30affebb9d",
   "metadata": {},
   "source": [
    "**Comments:**\n",
    "\n",
    "1. Dataset does not have missing values\n",
    "2. As heatmap, there're no any features that show high correlation with the target column. \n",
    "3. --> We will make an EDA to select the features"
   ]
  },
  {
   "cell_type": "markdown",
   "id": "04bce029-dc10-4e09-91b0-9cdfacffc21e",
   "metadata": {
    "jp-MarkdownHeadingCollapsed": true,
    "tags": []
   },
   "source": [
    "### **Define Function:** "
   ]
  },
  {
   "cell_type": "code",
   "execution_count": 6,
   "id": "e292bc7e-6760-4525-af1e-85c82acb50ab",
   "metadata": {},
   "outputs": [],
   "source": [
    "def count_percentage(df, column, target, count):\n",
    "    '''\n",
    "    This function to create the table calculate the percentage of fraud/non-fraud transaction on total transaction group by category values\n",
    "    \n",
    "    Input: df: dataframe \n",
    "    column: the category column need to be groupby\n",
    "    target: the target column\n",
    "    count: the column to count the transactions\n",
    "    \n",
    "    Example: \n",
    "    df = df_train, column = 'job', target = 'is_fraud', count = 'cc_num'\n",
    "    \n",
    "    '''\n",
    "    \n",
    "    # Create 2 dataframes of fraud and non-fraud\n",
    "    fraud = df[df[target]==1].groupby(column)[[count]].count().reset_index().sort_values(ascending=False, by = count)\n",
    "    not_fraud = df[df[target]==0].groupby(column)[[count]].count().reset_index().sort_values(ascending=False, by = count)\n",
    "    \n",
    "    #Merge 2 dataframe into one: \n",
    "    cate_df = fraud.merge(not_fraud, on = column , how = 'left')\n",
    "    cate_df.rename(columns = {count+'_x':'fraud',count+'_y':'not_fraud'}, inplace = True)\n",
    "    \n",
    "    #Caculate the percentage: \n",
    "    cate_df['%'] = cate_df['fraud']/(cate_df['fraud']+cate_df['not_fraud'])\n",
    "    \n",
    "    return cate_df   "
   ]
  },
  {
   "cell_type": "code",
   "execution_count": 7,
   "id": "a6f4528a-d507-4a1a-b222-222794027844",
   "metadata": {},
   "outputs": [],
   "source": [
    "def onehot_encoded(data, list_columns): \n",
    "    \n",
    "    from sklearn.preprocessing import OneHotEncoder\n",
    "    import time\n",
    "    '''Input is a list of category columns that will be encoded\n",
    "    Output is a dataframe that have columns encoded and remove the old columns'''\n",
    "    \n",
    "    print('Start onehot process')\n",
    "    st= time.time()\n",
    "    one_hot_data = pd.get_dummies(data, columns = list_columns)\n",
    "    return one_hot_data\n",
    "    et = time.time()\n",
    "    elaspe = (et-st)\n",
    "    print('=> The process done in', elaspe,'s')"
   ]
  },
  {
   "cell_type": "code",
   "execution_count": 8,
   "id": "959f5882-8cfa-45fb-b4d1-bc952e513478",
   "metadata": {},
   "outputs": [],
   "source": [
    "def normalize(data, list_columns):\n",
    "    '''\n",
    "    Input the list of columns that we need to normalized \n",
    "    Function will normalize as MinMaxScaler and return merged data and delete the old columns\n",
    "    '''\n",
    "    print('Start normalized columns')\n",
    "    from sklearn.preprocessing import MinMaxScaler\n",
    "    \n",
    "    st = time.time()\n",
    "    \n",
    "    #Filter the data that contains list columns need to normalize:\n",
    "    filter_df = data[list_columns]\n",
    "    \n",
    "    #Scale Feature: \n",
    "    scaler = MinMaxScaler()\n",
    "    model=scaler.fit(filter_df)\n",
    "    scaled_data=model.transform(filter_df)\n",
    "    \n",
    "    #Scaled data to dataframe: \n",
    "    scaled_data = pd.DataFrame(scaled_data, columns = list_columns)\n",
    "    \n",
    "    #Drop column in original data and merge with scaled data: \n",
    "    data.drop(columns = list_columns, inplace = True)\n",
    "    # data = data.join(scaled_data)\n",
    "    \n",
    "    et = time.time()\n",
    "    elaspe = (et-st)\n",
    "    \n",
    "    \n",
    "    print('Normalize process done in:',elaspe,'s')\n",
    "    return data.join(scaled_data)\n",
    "    "
   ]
  },
  {
   "cell_type": "code",
   "execution_count": 9,
   "id": "f97c1127-a9a9-4c4d-bb99-bbddc6b074c2",
   "metadata": {},
   "outputs": [],
   "source": [
    "# from sklearn.metrics import balanced_accuracy_score\n",
    "\n",
    "# '''\n",
    "# Use this balance accuracy to apply for train and test data \n",
    "#     y_true = The actual output lable value of train/test set. \n",
    "#     y_pred = The output label value that model predict of train/test set.\n",
    "\n",
    "# '''\n",
    "\n",
    "# balanced_accuracy = balanced_accuracy_score(y_true, y_pred)"
   ]
  },
  {
   "cell_type": "markdown",
   "id": "cbd9f9f2-2812-40b5-815d-d807a38de129",
   "metadata": {
    "tags": []
   },
   "source": [
    "### **EDA:** "
   ]
  },
  {
   "cell_type": "code",
   "execution_count": 10,
   "id": "c2eb4a18-1a0f-4558-8272-052f7f07a77a",
   "metadata": {},
   "outputs": [
    {
     "data": {
      "text/plain": [
       "Index(['Unnamed: 0', 'trans_date_trans_time', 'cc_num', 'merchant', 'category',\n",
       "       'amt', 'first', 'last', 'gender', 'street', 'city', 'state', 'zip',\n",
       "       'lat', 'long', 'city_pop', 'job', 'dob', 'trans_num', 'unix_time',\n",
       "       'merch_lat', 'merch_long', 'is_fraud'],\n",
       "      dtype='object')"
      ]
     },
     "execution_count": 10,
     "metadata": {},
     "output_type": "execute_result"
    }
   ],
   "source": [
    "df_train.columns"
   ]
  },
  {
   "cell_type": "markdown",
   "id": "34d3e8c8-e97c-4e71-8ae7-c8b2b7549599",
   "metadata": {},
   "source": [
    "* We will exclude the high unique values feature from the data: cc_num, first, last, trans_date_trans_time, trans_num\n",
    "* We have many columns belong to location of card holder: street, city, state, zip, lat, long ==> In this case, we will prioritize the numberic columns to avoid many encode columns. We decide to keep lat,long and exclude the others. \n",
    "* The others category values: job, dob, gender will be EDA to check the relation with is_fraud column. "
   ]
  },
  {
   "cell_type": "markdown",
   "id": "026d90d7-e474-4244-97dc-9069b3f99205",
   "metadata": {
    "jp-MarkdownHeadingCollapsed": true,
    "tags": []
   },
   "source": [
    "##### **Gender:**"
   ]
  },
  {
   "cell_type": "code",
   "execution_count": 11,
   "id": "64e7a03a-284f-451c-86a2-64564157e262",
   "metadata": {},
   "outputs": [],
   "source": [
    "gender_no_fraud = df_train[df_train['is_fraud']==0].groupby('gender')[['trans_num']].count().reset_index()\n",
    "gender_no_fraud.rename(columns = {'trans_num':'no_fraud'}, inplace = True)\n",
    "\n",
    "gender_fraud = df_train[df_train['is_fraud']==1].groupby('gender')[['trans_num']].count().reset_index()\n",
    "gender_fraud.rename(columns = {'trans_num':'fraud'}, inplace = True)\n",
    "\n",
    "gender_fraud = gender_fraud.merge(gender_no_fraud, on ='gender', how = 'left')\n",
    "gender_fraud['%fraud'] = gender_fraud['fraud']/(gender_fraud['fraud']+gender_fraud['no_fraud'])\n",
    "gender_fraud['%nofraud'] = gender_fraud['no_fraud']/(gender_fraud['fraud']+gender_fraud['no_fraud'])"
   ]
  },
  {
   "cell_type": "code",
   "execution_count": 12,
   "id": "a36149da-4693-4c22-8376-429b0dab7add",
   "metadata": {},
   "outputs": [
    {
     "data": {
      "text/html": [
       "<div>\n",
       "<style scoped>\n",
       "    .dataframe tbody tr th:only-of-type {\n",
       "        vertical-align: middle;\n",
       "    }\n",
       "\n",
       "    .dataframe tbody tr th {\n",
       "        vertical-align: top;\n",
       "    }\n",
       "\n",
       "    .dataframe thead th {\n",
       "        text-align: right;\n",
       "    }\n",
       "</style>\n",
       "<table border=\"1\" class=\"dataframe\">\n",
       "  <thead>\n",
       "    <tr style=\"text-align: right;\">\n",
       "      <th></th>\n",
       "      <th>gender</th>\n",
       "      <th>fraud</th>\n",
       "      <th>no_fraud</th>\n",
       "      <th>%fraud</th>\n",
       "      <th>%nofraud</th>\n",
       "    </tr>\n",
       "  </thead>\n",
       "  <tbody>\n",
       "    <tr>\n",
       "      <th>0</th>\n",
       "      <td>F</td>\n",
       "      <td>3735</td>\n",
       "      <td>706128</td>\n",
       "      <td>0.005262</td>\n",
       "      <td>0.994738</td>\n",
       "    </tr>\n",
       "    <tr>\n",
       "      <th>1</th>\n",
       "      <td>M</td>\n",
       "      <td>3771</td>\n",
       "      <td>583041</td>\n",
       "      <td>0.006426</td>\n",
       "      <td>0.993574</td>\n",
       "    </tr>\n",
       "  </tbody>\n",
       "</table>\n",
       "</div>"
      ],
      "text/plain": [
       "  gender  fraud  no_fraud    %fraud  %nofraud\n",
       "0      F   3735    706128  0.005262  0.994738\n",
       "1      M   3771    583041  0.006426  0.993574"
      ]
     },
     "execution_count": 12,
     "metadata": {},
     "output_type": "execute_result"
    }
   ],
   "source": [
    "gender_fraud"
   ]
  },
  {
   "cell_type": "markdown",
   "id": "292de497-011f-40c2-a872-6e123aa5915c",
   "metadata": {},
   "source": [
    "As the table shows, the percentage of fraud and non-fraud between male & female is not significantly different \n",
    "=> We can conclude that gender have no relationship with target column"
   ]
  },
  {
   "cell_type": "markdown",
   "id": "b91f6fb9-464c-43a8-ac72-9907db73c264",
   "metadata": {
    "jp-MarkdownHeadingCollapsed": true,
    "tags": []
   },
   "source": [
    "##### **DOB:**"
   ]
  },
  {
   "cell_type": "code",
   "execution_count": 13,
   "id": "8727425a-c70c-4b90-8c4f-0180feb73907",
   "metadata": {},
   "outputs": [
    {
     "data": {
      "text/plain": [
       "0          1988\n",
       "1          1978\n",
       "2          1962\n",
       "3          1967\n",
       "4          1986\n",
       "           ... \n",
       "1296670    1961\n",
       "1296671    1979\n",
       "1296672    1967\n",
       "1296673    1980\n",
       "1296674    1995\n",
       "Name: dob, Length: 1296675, dtype: int64"
      ]
     },
     "execution_count": 13,
     "metadata": {},
     "output_type": "execute_result"
    }
   ],
   "source": [
    "df_train['dob'] = df_train['dob'].astype('str').str[0:4]\n",
    "df_train['dob'].astype('int64')"
   ]
  },
  {
   "cell_type": "code",
   "execution_count": 14,
   "id": "0ac71baa-2c45-4661-96c2-a7e37af47627",
   "metadata": {},
   "outputs": [
    {
     "data": {
      "text/plain": [
       "81"
      ]
     },
     "execution_count": 14,
     "metadata": {},
     "output_type": "execute_result"
    }
   ],
   "source": [
    "df_train['dob'].nunique()"
   ]
  },
  {
   "cell_type": "code",
   "execution_count": 15,
   "id": "f454e059-74d8-4486-bcc9-3479eff26bac",
   "metadata": {},
   "outputs": [],
   "source": [
    "dob_no_fraud = df_train[df_train['is_fraud']==0].groupby('dob')[['trans_num']].count().reset_index()\n",
    "dob_no_fraud.rename(columns = {'trans_num':'no_fraud'}, inplace = True)\n",
    "\n",
    "dob_fraud = df_train[df_train['is_fraud']==1].groupby('dob')[['trans_num']].count().reset_index()\n",
    "dob_fraud.rename(columns = {'trans_num':'fraud'}, inplace = True)\n",
    "\n",
    "dob_fraud = dob_fraud.merge(dob_no_fraud, on ='dob', how = 'left')\n",
    "dob_fraud['%fraud'] = dob_fraud['fraud']/(dob_fraud['fraud']+dob_fraud['no_fraud'])\n",
    "dob_fraud['%nofraud'] = dob_fraud['no_fraud']/(dob_fraud['fraud']+dob_fraud['no_fraud'])"
   ]
  },
  {
   "cell_type": "code",
   "execution_count": 16,
   "id": "f240d68c-8ea1-484c-8cd6-9f62b8581cdc",
   "metadata": {},
   "outputs": [
    {
     "data": {
      "text/html": [
       "<div>\n",
       "<style scoped>\n",
       "    .dataframe tbody tr th:only-of-type {\n",
       "        vertical-align: middle;\n",
       "    }\n",
       "\n",
       "    .dataframe tbody tr th {\n",
       "        vertical-align: top;\n",
       "    }\n",
       "\n",
       "    .dataframe thead th {\n",
       "        text-align: right;\n",
       "    }\n",
       "</style>\n",
       "<table border=\"1\" class=\"dataframe\">\n",
       "  <thead>\n",
       "    <tr style=\"text-align: right;\">\n",
       "      <th></th>\n",
       "      <th>dob</th>\n",
       "      <th>fraud</th>\n",
       "      <th>no_fraud</th>\n",
       "      <th>%fraud</th>\n",
       "      <th>%nofraud</th>\n",
       "    </tr>\n",
       "  </thead>\n",
       "  <tbody>\n",
       "    <tr>\n",
       "      <th>7</th>\n",
       "      <td>1932</td>\n",
       "      <td>41</td>\n",
       "      <td>2055.0</td>\n",
       "      <td>0.019561</td>\n",
       "      <td>0.980439</td>\n",
       "    </tr>\n",
       "    <tr>\n",
       "      <th>71</th>\n",
       "      <td>1996</td>\n",
       "      <td>96</td>\n",
       "      <td>5912.0</td>\n",
       "      <td>0.015979</td>\n",
       "      <td>0.984021</td>\n",
       "    </tr>\n",
       "    <tr>\n",
       "      <th>9</th>\n",
       "      <td>1934</td>\n",
       "      <td>54</td>\n",
       "      <td>3583.0</td>\n",
       "      <td>0.014847</td>\n",
       "      <td>0.985153</td>\n",
       "    </tr>\n",
       "    <tr>\n",
       "      <th>15</th>\n",
       "      <td>1940</td>\n",
       "      <td>88</td>\n",
       "      <td>6130.0</td>\n",
       "      <td>0.014152</td>\n",
       "      <td>0.985848</td>\n",
       "    </tr>\n",
       "    <tr>\n",
       "      <th>12</th>\n",
       "      <td>1937</td>\n",
       "      <td>47</td>\n",
       "      <td>3544.0</td>\n",
       "      <td>0.013088</td>\n",
       "      <td>0.986912</td>\n",
       "    </tr>\n",
       "    <tr>\n",
       "      <th>...</th>\n",
       "      <td>...</td>\n",
       "      <td>...</td>\n",
       "      <td>...</td>\n",
       "      <td>...</td>\n",
       "      <td>...</td>\n",
       "    </tr>\n",
       "    <tr>\n",
       "      <th>48</th>\n",
       "      <td>1973</td>\n",
       "      <td>109</td>\n",
       "      <td>31162.0</td>\n",
       "      <td>0.003486</td>\n",
       "      <td>0.996514</td>\n",
       "    </tr>\n",
       "    <tr>\n",
       "      <th>50</th>\n",
       "      <td>1975</td>\n",
       "      <td>104</td>\n",
       "      <td>30176.0</td>\n",
       "      <td>0.003435</td>\n",
       "      <td>0.996565</td>\n",
       "    </tr>\n",
       "    <tr>\n",
       "      <th>59</th>\n",
       "      <td>1984</td>\n",
       "      <td>134</td>\n",
       "      <td>39904.0</td>\n",
       "      <td>0.003347</td>\n",
       "      <td>0.996653</td>\n",
       "    </tr>\n",
       "    <tr>\n",
       "      <th>60</th>\n",
       "      <td>1985</td>\n",
       "      <td>117</td>\n",
       "      <td>37196.0</td>\n",
       "      <td>0.003136</td>\n",
       "      <td>0.996864</td>\n",
       "    </tr>\n",
       "    <tr>\n",
       "      <th>0</th>\n",
       "      <td>1925</td>\n",
       "      <td>11</td>\n",
       "      <td>NaN</td>\n",
       "      <td>NaN</td>\n",
       "      <td>NaN</td>\n",
       "    </tr>\n",
       "  </tbody>\n",
       "</table>\n",
       "<p>80 rows × 5 columns</p>\n",
       "</div>"
      ],
      "text/plain": [
       "     dob  fraud  no_fraud    %fraud  %nofraud\n",
       "7   1932     41    2055.0  0.019561  0.980439\n",
       "71  1996     96    5912.0  0.015979  0.984021\n",
       "9   1934     54    3583.0  0.014847  0.985153\n",
       "15  1940     88    6130.0  0.014152  0.985848\n",
       "12  1937     47    3544.0  0.013088  0.986912\n",
       "..   ...    ...       ...       ...       ...\n",
       "48  1973    109   31162.0  0.003486  0.996514\n",
       "50  1975    104   30176.0  0.003435  0.996565\n",
       "59  1984    134   39904.0  0.003347  0.996653\n",
       "60  1985    117   37196.0  0.003136  0.996864\n",
       "0   1925     11       NaN       NaN       NaN\n",
       "\n",
       "[80 rows x 5 columns]"
      ]
     },
     "execution_count": 16,
     "metadata": {},
     "output_type": "execute_result"
    }
   ],
   "source": [
    "dob_fraud.sort_values(by = '%fraud', ascending = False)"
   ]
  },
  {
   "cell_type": "code",
   "execution_count": 17,
   "id": "5860df4c-fde2-4a4b-a9a7-a9185d23b3a5",
   "metadata": {},
   "outputs": [
    {
     "data": {
      "text/plain": [
       "array([[ 1.        , -0.40940283],\n",
       "       [-0.40940283,  1.        ]])"
      ]
     },
     "execution_count": 17,
     "metadata": {},
     "output_type": "execute_result"
    }
   ],
   "source": [
    "dob_fraud['dob'] = dob_fraud['dob'].astype('int64')\n",
    "dob_fraud = dob_fraud.dropna()\n",
    "c = np.corrcoef(dob_fraud['dob'], dob_fraud['%fraud'])\n",
    "c"
   ]
  },
  {
   "cell_type": "markdown",
   "id": "873fcd78-a800-46b4-ade5-6e1476f6e6e4",
   "metadata": {},
   "source": [
    "The correlation is -0.4. So the year of birth is not the relationship with the target column."
   ]
  },
  {
   "cell_type": "markdown",
   "id": "263fe854-77a5-4d64-88d3-4e7e278b9a4a",
   "metadata": {
    "jp-MarkdownHeadingCollapsed": true,
    "tags": []
   },
   "source": [
    "##### **Job:**"
   ]
  },
  {
   "cell_type": "code",
   "execution_count": 18,
   "id": "915fc6df-70e1-4152-942f-3bd8b5397d80",
   "metadata": {},
   "outputs": [],
   "source": [
    "fraud = df_train[df_train['is_fraud']==1].groupby('job')[['cc_num']].count().reset_index().sort_values(ascending=False, by ='cc_num')\n",
    "not_fraud = df_train[df_train['is_fraud']==0].groupby('job')[['cc_num']].count().reset_index().sort_values(ascending=False, by ='cc_num')\n",
    "job_df = fraud.merge(not_fraud, on = 'job', how = 'left')\n",
    "job_df.rename(columns = {'cc_num_x':'fraud','cc_num_y':'not_fraud'}, inplace = True)"
   ]
  },
  {
   "cell_type": "code",
   "execution_count": 19,
   "id": "fdd0455f-88af-4ac6-aeae-ad755372fda7",
   "metadata": {},
   "outputs": [
    {
     "data": {
      "text/html": [
       "<div>\n",
       "<style scoped>\n",
       "    .dataframe tbody tr th:only-of-type {\n",
       "        vertical-align: middle;\n",
       "    }\n",
       "\n",
       "    .dataframe tbody tr th {\n",
       "        vertical-align: top;\n",
       "    }\n",
       "\n",
       "    .dataframe thead th {\n",
       "        text-align: right;\n",
       "    }\n",
       "</style>\n",
       "<table border=\"1\" class=\"dataframe\">\n",
       "  <thead>\n",
       "    <tr style=\"text-align: right;\">\n",
       "      <th></th>\n",
       "      <th>job</th>\n",
       "      <th>fraud</th>\n",
       "      <th>not_fraud</th>\n",
       "      <th>%</th>\n",
       "    </tr>\n",
       "  </thead>\n",
       "  <tbody>\n",
       "    <tr>\n",
       "      <th>0</th>\n",
       "      <td>Materials engineer</td>\n",
       "      <td>62</td>\n",
       "      <td>8208.0</td>\n",
       "      <td>0.007497</td>\n",
       "    </tr>\n",
       "    <tr>\n",
       "      <th>1</th>\n",
       "      <td>Trading standards officer</td>\n",
       "      <td>56</td>\n",
       "      <td>4585.0</td>\n",
       "      <td>0.012066</td>\n",
       "    </tr>\n",
       "    <tr>\n",
       "      <th>2</th>\n",
       "      <td>Naval architect</td>\n",
       "      <td>53</td>\n",
       "      <td>8631.0</td>\n",
       "      <td>0.006103</td>\n",
       "    </tr>\n",
       "    <tr>\n",
       "      <th>3</th>\n",
       "      <td>Exhibition designer</td>\n",
       "      <td>51</td>\n",
       "      <td>9148.0</td>\n",
       "      <td>0.005544</td>\n",
       "    </tr>\n",
       "    <tr>\n",
       "      <th>4</th>\n",
       "      <td>Surveyor, land/geomatics</td>\n",
       "      <td>50</td>\n",
       "      <td>8630.0</td>\n",
       "      <td>0.005760</td>\n",
       "    </tr>\n",
       "    <tr>\n",
       "      <th>...</th>\n",
       "      <td>...</td>\n",
       "      <td>...</td>\n",
       "      <td>...</td>\n",
       "      <td>...</td>\n",
       "    </tr>\n",
       "    <tr>\n",
       "      <th>438</th>\n",
       "      <td>Statistician</td>\n",
       "      <td>3</td>\n",
       "      <td>2596.0</td>\n",
       "      <td>0.001154</td>\n",
       "    </tr>\n",
       "    <tr>\n",
       "      <th>439</th>\n",
       "      <td>Chartered loss adjuster</td>\n",
       "      <td>3</td>\n",
       "      <td>5132.0</td>\n",
       "      <td>0.000584</td>\n",
       "    </tr>\n",
       "    <tr>\n",
       "      <th>440</th>\n",
       "      <td>Health physicist</td>\n",
       "      <td>3</td>\n",
       "      <td>3031.0</td>\n",
       "      <td>0.000989</td>\n",
       "    </tr>\n",
       "    <tr>\n",
       "      <th>441</th>\n",
       "      <td>Contractor</td>\n",
       "      <td>2</td>\n",
       "      <td>3021.0</td>\n",
       "      <td>0.000662</td>\n",
       "    </tr>\n",
       "    <tr>\n",
       "      <th>442</th>\n",
       "      <td>English as a second language teacher</td>\n",
       "      <td>2</td>\n",
       "      <td>4123.0</td>\n",
       "      <td>0.000485</td>\n",
       "    </tr>\n",
       "  </tbody>\n",
       "</table>\n",
       "<p>443 rows × 4 columns</p>\n",
       "</div>"
      ],
      "text/plain": [
       "                                      job  fraud  not_fraud         %\n",
       "0                      Materials engineer     62     8208.0  0.007497\n",
       "1               Trading standards officer     56     4585.0  0.012066\n",
       "2                         Naval architect     53     8631.0  0.006103\n",
       "3                     Exhibition designer     51     9148.0  0.005544\n",
       "4                Surveyor, land/geomatics     50     8630.0  0.005760\n",
       "..                                    ...    ...        ...       ...\n",
       "438                          Statistician      3     2596.0  0.001154\n",
       "439               Chartered loss adjuster      3     5132.0  0.000584\n",
       "440                      Health physicist      3     3031.0  0.000989\n",
       "441                            Contractor      2     3021.0  0.000662\n",
       "442  English as a second language teacher      2     4123.0  0.000485\n",
       "\n",
       "[443 rows x 4 columns]"
      ]
     },
     "execution_count": 19,
     "metadata": {},
     "output_type": "execute_result"
    }
   ],
   "source": [
    "job_df['%'] = job_df['fraud']/(job_df['fraud']+job_df['not_fraud'])\n",
    "job_df"
   ]
  },
  {
   "cell_type": "code",
   "execution_count": 20,
   "id": "01057043-8729-4514-b9d7-13f17f628a02",
   "metadata": {},
   "outputs": [
    {
     "data": {
      "text/plain": [
       "count    424.000000\n",
       "mean       0.008203\n",
       "std        0.006105\n",
       "min        0.000485\n",
       "25%        0.004325\n",
       "50%        0.006883\n",
       "75%        0.009798\n",
       "max        0.051852\n",
       "Name: %, dtype: float64"
      ]
     },
     "execution_count": 20,
     "metadata": {},
     "output_type": "execute_result"
    }
   ],
   "source": [
    "job_df['%'].describe()"
   ]
  },
  {
   "cell_type": "code",
   "execution_count": 21,
   "id": "77cf82af-18f5-49b0-8380-2ecf3b5601e6",
   "metadata": {},
   "outputs": [
    {
     "data": {
      "text/plain": [
       "<AxesSubplot:>"
      ]
     },
     "execution_count": 21,
     "metadata": {},
     "output_type": "execute_result"
    },
    {
     "data": {
      "image/png": "[encoded data removed]",
      "text/plain": [
       "<Figure size 432x288 with 1 Axes>"
      ]
     },
     "metadata": {
      "needs_background": "light"
     },
     "output_type": "display_data"
    }
   ],
   "source": [
    "sns.boxplot(data=job_df['%'])"
   ]
  },
  {
   "cell_type": "code",
   "execution_count": 22,
   "id": "d6fa21e8-ba35-4ced-aff8-6622aafe3800",
   "metadata": {},
   "outputs": [
    {
     "data": {
      "text/plain": [
       "0.019519850437743187"
      ]
     },
     "execution_count": 22,
     "metadata": {},
     "output_type": "execute_result"
    }
   ],
   "source": [
    "x = job_df['%'].tolist()\n",
    "y = np.nanpercentile(x,95)\n",
    "y"
   ]
  },
  {
   "cell_type": "code",
   "execution_count": 23,
   "id": "e83abb7d-df28-4d17-a9bc-a34cf3d51ee8",
   "metadata": {},
   "outputs": [],
   "source": [
    "job_filter = job_df[job_df['%']>y]"
   ]
  },
  {
   "cell_type": "markdown",
   "id": "df2d9e04-16b6-4f5a-8a23-2cc18ce64e4c",
   "metadata": {},
   "source": [
    "1. As monitoring, we found that the percentage of all job values is quite the same (the mean ~ the median and the std is so small). \n",
    "2. However, it still have some outliers. The solution here, we will chose the job values that have % > tp95 and add to the model. "
   ]
  },
  {
   "cell_type": "code",
   "execution_count": 24,
   "id": "7cf8380c-2d66-438a-9bf8-fe9d69cd6fbe",
   "metadata": {},
   "outputs": [],
   "source": [
    "# Replace value of Job column to 'Other' if is not in >tp95 list: \n",
    "df_train['job'] = df_train['job'].apply(lambda x: 'Other' if x not in job_filter['job'].tolist() else x)"
   ]
  },
  {
   "cell_type": "markdown",
   "id": "5f090a1f-367a-43b6-adef-9e88986f95c0",
   "metadata": {
    "tags": []
   },
   "source": [
    "##### **Category:**"
   ]
  },
  {
   "cell_type": "code",
   "execution_count": 25,
   "id": "ad2e77b1-25d8-4768-a8cc-a0e077b2501a",
   "metadata": {},
   "outputs": [
    {
     "data": {
      "text/plain": [
       "count    14.000000\n",
       "mean      0.005629\n",
       "std       0.005531\n",
       "min       0.001549\n",
       "25%       0.002192\n",
       "50%       0.002906\n",
       "75%       0.006593\n",
       "max       0.017561\n",
       "Name: %, dtype: float64"
      ]
     },
     "execution_count": 25,
     "metadata": {},
     "output_type": "execute_result"
    }
   ],
   "source": [
    "cat_df = count_percentage(df_train, 'category', 'is_fraud', 'cc_num')\n",
    "cat_df['%'].describe()"
   ]
  },
  {
   "cell_type": "code",
   "execution_count": 26,
   "id": "f45985a2-3805-413b-94bf-084d2b6f8a45",
   "metadata": {},
   "outputs": [
    {
     "data": {
      "text/plain": [
       "<AxesSubplot:ylabel='%'>"
      ]
     },
     "execution_count": 26,
     "metadata": {},
     "output_type": "execute_result"
    },
    {
     "data": {
      "image/png": "[encoded data removed]",
      "text/plain": [
       "<Figure size 432x288 with 1 Axes>"
      ]
     },
     "metadata": {
      "needs_background": "light"
     },
     "output_type": "display_data"
    }
   ],
   "source": [
    "sns.boxplot(data=cat_df, y='%')"
   ]
  },
  {
   "cell_type": "code",
   "execution_count": 27,
   "id": "b8533544-ec99-4398-909a-9f32d31d0e9b",
   "metadata": {},
   "outputs": [
    {
     "data": {
      "text/plain": [
       "array(['misc_net', 'grocery_pos', 'entertainment', 'gas_transport',\n",
       "       'misc_pos', 'grocery_net', 'shopping_net', 'shopping_pos',\n",
       "       'food_dining', 'personal_care', 'health_fitness', 'travel',\n",
       "       'kids_pets', 'home'], dtype=object)"
      ]
     },
     "execution_count": 27,
     "metadata": {},
     "output_type": "execute_result"
    }
   ],
   "source": [
    "df_train['category'].unique()"
   ]
  },
  {
   "cell_type": "markdown",
   "id": "7fbc25a0-1df4-44ea-9d9e-a89b7e36c060",
   "metadata": {
    "tags": []
   },
   "source": [
    "##### **Transaction Time:**"
   ]
  },
  {
   "cell_type": "code",
   "execution_count": 28,
   "id": "c27e6680-52e0-4aa1-8ca9-563601e4f73a",
   "metadata": {},
   "outputs": [],
   "source": [
    "df_train['tns_hour'] = df_train['trans_date_trans_time'].apply(lambda x: pd.to_datetime(x, format = '%Y-%m-%d %H:%M:%S.%f').hour)"
   ]
  },
  {
   "cell_type": "code",
   "execution_count": 29,
   "id": "5dab20ac-85a7-4431-9ff1-618e155d50af",
   "metadata": {},
   "outputs": [],
   "source": [
    "time_df = count_percentage(df_train, 'tns_hour', 'is_fraud', 'cc_num')"
   ]
  },
  {
   "cell_type": "code",
   "execution_count": 30,
   "id": "dd132b6b-be21-4ca4-b86b-cf0188b016c7",
   "metadata": {},
   "outputs": [
    {
     "data": {
      "text/plain": [
       "<AxesSubplot:xlabel='tns_hour', ylabel='%'>"
      ]
     },
     "execution_count": 30,
     "metadata": {},
     "output_type": "execute_result"
    },
    {
     "data": {
      "image/png": "[encoded data removed]",
      "text/plain": [
       "<Figure size 432x288 with 1 Axes>"
      ]
     },
     "metadata": {
      "needs_background": "light"
     },
     "output_type": "display_data"
    }
   ],
   "source": [
    "sns.barplot(data=time_df, x='tns_hour', y='%')"
   ]
  },
  {
   "cell_type": "markdown",
   "id": "1ba89b64-c079-45da-a1b7-3ee83b905bdd",
   "metadata": {},
   "source": [
    "As barplot, we found that on 22pm and 23pm, users intend to have fraud more.\n",
    "==> We can use this feature for the model "
   ]
  },
  {
   "cell_type": "markdown",
   "id": "8eeb995f-ad2f-4131-911f-a47ffe01a60f",
   "metadata": {},
   "source": [
    "#### **Conclusion**\n",
    "\n",
    "After EDA we will keep the below columns to the model: \n",
    "1. cc_num: the primary key of the dataset \n",
    "2. job: the job of the card holder, keep job value that have % > percentile 90.\n",
    "3. lat,long: the location of card holder but in numeric type (we drop street, city, state, city_pop, zip since they have the same meaning)\n",
    "4. category: the category of the merchant (we will drop the merchant since the category have less value but the same meaning with merchant)\n",
    "5. merch_lat/merch_long: the location of merchant \n",
    "6. Hour of transacion time\n",
    "7. amt: the amout of the money "
   ]
  },
  {
   "cell_type": "code",
   "execution_count": 31,
   "id": "84f71ece-2220-40f4-98d4-2efd18f4d329",
   "metadata": {},
   "outputs": [
    {
     "data": {
      "text/plain": [
       "Index(['Unnamed: 0', 'trans_date_trans_time', 'cc_num', 'merchant', 'category',\n",
       "       'amt', 'first', 'last', 'gender', 'street', 'city', 'state', 'zip',\n",
       "       'lat', 'long', 'city_pop', 'job', 'dob', 'trans_num', 'unix_time',\n",
       "       'merch_lat', 'merch_long', 'is_fraud', 'tns_hour'],\n",
       "      dtype='object')"
      ]
     },
     "execution_count": 31,
     "metadata": {},
     "output_type": "execute_result"
    }
   ],
   "source": [
    "df_train.columns"
   ]
  },
  {
   "cell_type": "code",
   "execution_count": 32,
   "id": "c4821249-c81a-4af7-8108-c63dcc986c25",
   "metadata": {},
   "outputs": [],
   "source": [
    "df_train = df_train[['cc_num','category','amt','lat','long','job','merch_lat','merch_long','is_fraud','tns_hour']]"
   ]
  },
  {
   "cell_type": "markdown",
   "id": "55174134-1587-48db-b573-a6f70deed99e",
   "metadata": {
    "tags": []
   },
   "source": [
    "### **Encoding & Normalizing:** "
   ]
  },
  {
   "cell_type": "code",
   "execution_count": 33,
   "id": "bb32be0f-2e25-4b0c-a455-befc82f818f2",
   "metadata": {},
   "outputs": [
    {
     "name": "stdout",
     "output_type": "stream",
     "text": [
      "<class 'pandas.core.frame.DataFrame'>\n",
      "RangeIndex: 1296675 entries, 0 to 1296674\n",
      "Data columns (total 10 columns):\n",
      " #   Column      Non-Null Count    Dtype  \n",
      "---  ------      --------------    -----  \n",
      " 0   cc_num      1296675 non-null  int64  \n",
      " 1   category    1296675 non-null  object \n",
      " 2   amt         1296675 non-null  float64\n",
      " 3   lat         1296675 non-null  float64\n",
      " 4   long        1296675 non-null  float64\n",
      " 5   job         1296675 non-null  object \n",
      " 6   merch_lat   1296675 non-null  float64\n",
      " 7   merch_long  1296675 non-null  float64\n",
      " 8   is_fraud    1296675 non-null  int64  \n",
      " 9   tns_hour    1296675 non-null  int64  \n",
      "dtypes: float64(5), int64(3), object(2)\n",
      "memory usage: 98.9+ MB\n"
     ]
    }
   ],
   "source": [
    "df_train.info()"
   ]
  },
  {
   "cell_type": "code",
   "execution_count": 34,
   "id": "56ee2614-208d-4a1f-9278-e976515486a7",
   "metadata": {},
   "outputs": [
    {
     "name": "stdout",
     "output_type": "stream",
     "text": [
      "Start onehot process\n"
     ]
    }
   ],
   "source": [
    "list_columns = ['category','job']\n",
    "\n",
    "df_train = onehot_encoded(df_train, list_columns)"
   ]
  },
  {
   "cell_type": "code",
   "execution_count": 35,
   "id": "b1f05dc5-bdb1-4ddf-b15a-915bd37d7779",
   "metadata": {},
   "outputs": [
    {
     "data": {
      "text/plain": [
       "Index(['cc_num', 'amt', 'lat', 'long', 'merch_lat', 'merch_long', 'is_fraud',\n",
       "       'tns_hour', 'category_entertainment', 'category_food_dining',\n",
       "       'category_gas_transport', 'category_grocery_net',\n",
       "       'category_grocery_pos', 'category_health_fitness', 'category_home',\n",
       "       'category_kids_pets', 'category_misc_net', 'category_misc_pos',\n",
       "       'category_personal_care', 'category_shopping_net',\n",
       "       'category_shopping_pos', 'category_travel', 'job_Artist',\n",
       "       'job_Charity officer', 'job_Civil Service administrator',\n",
       "       'job_Clinical cytogeneticist', 'job_Community development worker',\n",
       "       'job_Conservator, museum/gallery', 'job_Economist',\n",
       "       'job_Education officer, community', 'job_Engineer, structural',\n",
       "       'job_Field trials officer', 'job_Geneticist, molecular',\n",
       "       'job_Interior and spatial designer', 'job_Lawyer',\n",
       "       'job_Magazine journalist', 'job_Marketing executive',\n",
       "       'job_Medical technical officer', 'job_Minerals surveyor', 'job_Other',\n",
       "       'job_Pharmacist, hospital', 'job_Purchasing manager',\n",
       "       'job_Solicitor, Scotland', 'job_TEFL teacher', 'job_Writer'],\n",
       "      dtype='object')"
      ]
     },
     "execution_count": 35,
     "metadata": {},
     "output_type": "execute_result"
    }
   ],
   "source": [
    "df_train.columns"
   ]
  },
  {
   "cell_type": "code",
   "execution_count": 36,
   "id": "a2965165-68ca-4557-bb81-d03cff429aed",
   "metadata": {},
   "outputs": [
    {
     "name": "stdout",
     "output_type": "stream",
     "text": [
      "Start normalized columns\n",
      "Normalize process done in: 1.7259597778320312 s\n"
     ]
    }
   ],
   "source": [
    "list_columns = df_train.columns.tolist()\n",
    "df_train = normalize(df_train, list_columns)"
   ]
  },
  {
   "cell_type": "code",
   "execution_count": 37,
   "id": "472a0f2a-cb9a-436b-b88a-a9a48aa5eef8",
   "metadata": {},
   "outputs": [
    {
     "data": {
      "text/html": [
       "<div>\n",
       "<style scoped>\n",
       "    .dataframe tbody tr th:only-of-type {\n",
       "        vertical-align: middle;\n",
       "    }\n",
       "\n",
       "    .dataframe tbody tr th {\n",
       "        vertical-align: top;\n",
       "    }\n",
       "\n",
       "    .dataframe thead th {\n",
       "        text-align: right;\n",
       "    }\n",
       "</style>\n",
       "<table border=\"1\" class=\"dataframe\">\n",
       "  <thead>\n",
       "    <tr style=\"text-align: right;\">\n",
       "      <th></th>\n",
       "      <th>cc_num</th>\n",
       "      <th>amt</th>\n",
       "      <th>lat</th>\n",
       "      <th>long</th>\n",
       "      <th>merch_lat</th>\n",
       "      <th>merch_long</th>\n",
       "      <th>is_fraud</th>\n",
       "      <th>tns_hour</th>\n",
       "      <th>category_entertainment</th>\n",
       "      <th>category_food_dining</th>\n",
       "      <th>...</th>\n",
       "      <th>job_Magazine journalist</th>\n",
       "      <th>job_Marketing executive</th>\n",
       "      <th>job_Medical technical officer</th>\n",
       "      <th>job_Minerals surveyor</th>\n",
       "      <th>job_Other</th>\n",
       "      <th>job_Pharmacist, hospital</th>\n",
       "      <th>job_Purchasing manager</th>\n",
       "      <th>job_Solicitor, Scotland</th>\n",
       "      <th>job_TEFL teacher</th>\n",
       "      <th>job_Writer</th>\n",
       "    </tr>\n",
       "  </thead>\n",
       "  <tbody>\n",
       "    <tr>\n",
       "      <th>0</th>\n",
       "      <td>5.414540e-04</td>\n",
       "      <td>0.000137</td>\n",
       "      <td>0.343968</td>\n",
       "      <td>0.864638</td>\n",
       "      <td>0.350302</td>\n",
       "      <td>0.848602</td>\n",
       "      <td>0.0</td>\n",
       "      <td>0.0</td>\n",
       "      <td>0.0</td>\n",
       "      <td>0.0</td>\n",
       "      <td>...</td>\n",
       "      <td>0.0</td>\n",
       "      <td>0.0</td>\n",
       "      <td>0.0</td>\n",
       "      <td>0.0</td>\n",
       "      <td>1.0</td>\n",
       "      <td>0.0</td>\n",
       "      <td>0.0</td>\n",
       "      <td>0.0</td>\n",
       "      <td>0.0</td>\n",
       "      <td>0.0</td>\n",
       "    </tr>\n",
       "    <tr>\n",
       "      <th>1</th>\n",
       "      <td>1.141762e-07</td>\n",
       "      <td>0.003670</td>\n",
       "      <td>0.618450</td>\n",
       "      <td>0.485682</td>\n",
       "      <td>0.621488</td>\n",
       "      <td>0.486208</td>\n",
       "      <td>0.0</td>\n",
       "      <td>0.0</td>\n",
       "      <td>0.0</td>\n",
       "      <td>0.0</td>\n",
       "      <td>...</td>\n",
       "      <td>0.0</td>\n",
       "      <td>0.0</td>\n",
       "      <td>0.0</td>\n",
       "      <td>0.0</td>\n",
       "      <td>1.0</td>\n",
       "      <td>0.0</td>\n",
       "      <td>0.0</td>\n",
       "      <td>0.0</td>\n",
       "      <td>0.0</td>\n",
       "      <td>0.0</td>\n",
       "    </tr>\n",
       "  </tbody>\n",
       "</table>\n",
       "<p>2 rows × 45 columns</p>\n",
       "</div>"
      ],
      "text/plain": [
       "         cc_num       amt       lat      long  merch_lat  merch_long  \\\n",
       "0  5.414540e-04  0.000137  0.343968  0.864638   0.350302    0.848602   \n",
       "1  1.141762e-07  0.003670  0.618450  0.485682   0.621488    0.486208   \n",
       "\n",
       "   is_fraud  tns_hour  category_entertainment  category_food_dining  ...  \\\n",
       "0       0.0       0.0                     0.0                   0.0  ...   \n",
       "1       0.0       0.0                     0.0                   0.0  ...   \n",
       "\n",
       "   job_Magazine journalist  job_Marketing executive  \\\n",
       "0                      0.0                      0.0   \n",
       "1                      0.0                      0.0   \n",
       "\n",
       "   job_Medical technical officer  job_Minerals surveyor  job_Other  \\\n",
       "0                            0.0                    0.0        1.0   \n",
       "1                            0.0                    0.0        1.0   \n",
       "\n",
       "   job_Pharmacist, hospital  job_Purchasing manager  job_Solicitor, Scotland  \\\n",
       "0                       0.0                     0.0                      0.0   \n",
       "1                       0.0                     0.0                      0.0   \n",
       "\n",
       "   job_TEFL teacher  job_Writer  \n",
       "0               0.0         0.0  \n",
       "1               0.0         0.0  \n",
       "\n",
       "[2 rows x 45 columns]"
      ]
     },
     "execution_count": 37,
     "metadata": {},
     "output_type": "execute_result"
    }
   ],
   "source": [
    "df_train.head(2)"
   ]
  },
  {
   "cell_type": "markdown",
   "id": "bd40a68d-c4b1-4b34-82ac-c4cfb47686e1",
   "metadata": {
    "tags": []
   },
   "source": [
    "### **Pipeline Function to apply for Test data:** "
   ]
  },
  {
   "cell_type": "code",
   "execution_count": 38,
   "id": "ada4e0fb-4a8b-46f7-8f74-0b3f81cfbfaf",
   "metadata": {},
   "outputs": [],
   "source": [
    "def pipeline_func(data): \n",
    "    #Process category data:\n",
    "    data['job'] = data['job'].apply(lambda x: 'Other' if x not in job_filter['job'].tolist() else x)\n",
    "    data['tns_hour'] = data['trans_date_trans_time'].apply(lambda x: pd.to_datetime(x, format = '%Y-%m-%d %H:%M:%S.%f').hour)\n",
    "    #Feature Selection: \n",
    "    data = data[['cc_num','category','amt','lat','long','job','merch_lat','merch_long','is_fraud','tns_hour']]\n",
    "    #Encoding: \n",
    "    list_encode = ['category','job']\n",
    "    data = onehot_encoded(data, list_encode)\n",
    "    #Normalize: \n",
    "    list_nor = data.columns.tolist()\n",
    "    data = normalize(data, list_nor)    \n",
    "    return data    "
   ]
  },
  {
   "cell_type": "code",
   "execution_count": 39,
   "id": "cac635a3-5570-47f2-be3a-765f6d3f5d6c",
   "metadata": {},
   "outputs": [
    {
     "name": "stdout",
     "output_type": "stream",
     "text": [
      "Start onehot process\n",
      "Start normalized columns\n",
      "Normalize process done in: 0.614483118057251 s\n"
     ]
    }
   ],
   "source": [
    "df_test = pipeline_func(df_test)"
   ]
  },
  {
   "cell_type": "code",
   "execution_count": 40,
   "id": "a71c0a24-3da3-4a28-9dca-8d7a6a8bb16a",
   "metadata": {},
   "outputs": [
    {
     "data": {
      "text/plain": [
       "(1296675, 45)"
      ]
     },
     "execution_count": 40,
     "metadata": {},
     "output_type": "execute_result"
    }
   ],
   "source": [
    "df_train.shape"
   ]
  },
  {
   "cell_type": "code",
   "execution_count": 41,
   "id": "05849684-bbfc-4ee2-a54d-80f44d26c251",
   "metadata": {},
   "outputs": [
    {
     "data": {
      "text/plain": [
       "(555719, 45)"
      ]
     },
     "execution_count": 41,
     "metadata": {},
     "output_type": "execute_result"
    }
   ],
   "source": [
    "df_test.shape"
   ]
  },
  {
   "cell_type": "markdown",
   "id": "9c181dc4-e46e-445c-96b6-a2a0c689243e",
   "metadata": {},
   "source": [
    "Test and Train data has the same number of columns ==> Start apply model"
   ]
  },
  {
   "cell_type": "markdown",
   "id": "29baf01d-643c-47d5-96c5-0e66cfc28c37",
   "metadata": {},
   "source": [
    "### **Apply model** "
   ]
  },
  {
   "cell_type": "code",
   "execution_count": 42,
   "id": "5a169808-4d65-4774-b450-d3f8ec659921",
   "metadata": {},
   "outputs": [],
   "source": [
    "x_train = df_train.drop('is_fraud', axis = 1)\n",
    "y_train = df_train[['is_fraud']]\n",
    "x_test = df_test.drop('is_fraud', axis = 1)\n",
    "y_test = df_test[['is_fraud']]"
   ]
  },
  {
   "cell_type": "markdown",
   "id": "d4817ae3-61f5-4efb-9d93-3fceeb2959d8",
   "metadata": {},
   "source": [
    "#### **Logistic Regression:**"
   ]
  },
  {
   "cell_type": "code",
   "execution_count": 61,
   "id": "7a55e2c1-656d-46fa-8127-f905dd017435",
   "metadata": {},
   "outputs": [
    {
     "data": {
      "text/plain": [
       "LogisticRegression(random_state=0)"
      ]
     },
     "execution_count": 61,
     "metadata": {},
     "output_type": "execute_result"
    }
   ],
   "source": [
    "from sklearn.linear_model import LogisticRegression\n",
    "\n",
    "clf = LogisticRegression(random_state = 0)\n",
    "clf.fit(x_train, y_train)"
   ]
  },
  {
   "cell_type": "code",
   "execution_count": 62,
   "id": "1fe8a8fb-918b-4a5a-95d9-3b7c4b35217a",
   "metadata": {},
   "outputs": [],
   "source": [
    "y_pred = clf.predict(x_test)"
   ]
  },
  {
   "cell_type": "code",
   "execution_count": 63,
   "id": "06ac6240-41fa-4d8b-afef-6bdabeb637cf",
   "metadata": {},
   "outputs": [
    {
     "data": {
      "text/plain": [
       "<sklearn.metrics._plot.confusion_matrix.ConfusionMatrixDisplay at 0x7fbdb985e070>"
      ]
     },
     "execution_count": 63,
     "metadata": {},
     "output_type": "execute_result"
    },
    {
     "data": {
      "image/png": "[encoded data removed]",
      "text/plain": [
       "<Figure size 432x288 with 2 Axes>"
      ]
     },
     "metadata": {
      "needs_background": "light"
     },
     "output_type": "display_data"
    }
   ],
   "source": [
    "from sklearn.metrics import confusion_matrix, ConfusionMatrixDisplay\n",
    "\n",
    "cm = confusion_matrix(y_test, y_pred, labels=clf.classes_)\n",
    "disp = ConfusionMatrixDisplay(confusion_matrix=cm, display_labels=clf.classes_)\n",
    "disp.plot()"
   ]
  },
  {
   "cell_type": "code",
   "execution_count": 64,
   "id": "ae06b468-50b2-4e95-855d-642c58e799c2",
   "metadata": {},
   "outputs": [
    {
     "data": {
      "text/plain": [
       "0.5014627991904743"
      ]
     },
     "execution_count": 64,
     "metadata": {},
     "output_type": "execute_result"
    }
   ],
   "source": [
    "from sklearn.metrics import balanced_accuracy_score\n",
    "\n",
    "balanced_accuracy = balanced_accuracy_score(y_test, y_pred)\n",
    "balanced_accuracy"
   ]
  },
  {
   "cell_type": "markdown",
   "id": "06cc32d0-aa39-4946-af2f-4c549192ff05",
   "metadata": {},
   "source": [
    "**We use ROC curve to check whether other probability threshold can make higher balanced accuracy**"
   ]
  },
  {
   "cell_type": "code",
   "execution_count": 77,
   "id": "b1196127-c2d6-4849-b0de-7ac736b25585",
   "metadata": {},
   "outputs": [
    {
     "data": {
      "text/html": [
       "<div>\n",
       "<style scoped>\n",
       "    .dataframe tbody tr th:only-of-type {\n",
       "        vertical-align: middle;\n",
       "    }\n",
       "\n",
       "    .dataframe tbody tr th {\n",
       "        vertical-align: top;\n",
       "    }\n",
       "\n",
       "    .dataframe thead th {\n",
       "        text-align: right;\n",
       "    }\n",
       "</style>\n",
       "<table border=\"1\" class=\"dataframe\">\n",
       "  <thead>\n",
       "    <tr style=\"text-align: right;\">\n",
       "      <th></th>\n",
       "      <th>FPR</th>\n",
       "      <th>TPR</th>\n",
       "      <th>threshold</th>\n",
       "    </tr>\n",
       "  </thead>\n",
       "  <tbody>\n",
       "    <tr>\n",
       "      <th>0</th>\n",
       "      <td>0.000000</td>\n",
       "      <td>0.000000</td>\n",
       "      <td>2.000000</td>\n",
       "    </tr>\n",
       "    <tr>\n",
       "      <th>1</th>\n",
       "      <td>0.000002</td>\n",
       "      <td>0.000000</td>\n",
       "      <td>1.000000</td>\n",
       "    </tr>\n",
       "    <tr>\n",
       "      <th>2</th>\n",
       "      <td>0.000242</td>\n",
       "      <td>0.000000</td>\n",
       "      <td>0.703645</td>\n",
       "    </tr>\n",
       "    <tr>\n",
       "      <th>3</th>\n",
       "      <td>0.000242</td>\n",
       "      <td>0.000466</td>\n",
       "      <td>0.703374</td>\n",
       "    </tr>\n",
       "    <tr>\n",
       "      <th>4</th>\n",
       "      <td>0.000246</td>\n",
       "      <td>0.000466</td>\n",
       "      <td>0.693226</td>\n",
       "    </tr>\n",
       "    <tr>\n",
       "      <th>...</th>\n",
       "      <td>...</td>\n",
       "      <td>...</td>\n",
       "      <td>...</td>\n",
       "    </tr>\n",
       "    <tr>\n",
       "      <th>3430</th>\n",
       "      <td>0.999539</td>\n",
       "      <td>0.999068</td>\n",
       "      <td>0.000146</td>\n",
       "    </tr>\n",
       "    <tr>\n",
       "      <th>3431</th>\n",
       "      <td>0.999539</td>\n",
       "      <td>0.999534</td>\n",
       "      <td>0.000146</td>\n",
       "    </tr>\n",
       "    <tr>\n",
       "      <th>3432</th>\n",
       "      <td>0.999805</td>\n",
       "      <td>0.999534</td>\n",
       "      <td>0.000141</td>\n",
       "    </tr>\n",
       "    <tr>\n",
       "      <th>3433</th>\n",
       "      <td>0.999805</td>\n",
       "      <td>1.000000</td>\n",
       "      <td>0.000141</td>\n",
       "    </tr>\n",
       "    <tr>\n",
       "      <th>3434</th>\n",
       "      <td>1.000000</td>\n",
       "      <td>1.000000</td>\n",
       "      <td>0.000109</td>\n",
       "    </tr>\n",
       "  </tbody>\n",
       "</table>\n",
       "<p>3435 rows × 3 columns</p>\n",
       "</div>"
      ],
      "text/plain": [
       "           FPR       TPR  threshold\n",
       "0     0.000000  0.000000   2.000000\n",
       "1     0.000002  0.000000   1.000000\n",
       "2     0.000242  0.000000   0.703645\n",
       "3     0.000242  0.000466   0.703374\n",
       "4     0.000246  0.000466   0.693226\n",
       "...        ...       ...        ...\n",
       "3430  0.999539  0.999068   0.000146\n",
       "3431  0.999539  0.999534   0.000146\n",
       "3432  0.999805  0.999534   0.000141\n",
       "3433  0.999805  1.000000   0.000141\n",
       "3434  1.000000  1.000000   0.000109\n",
       "\n",
       "[3435 rows x 3 columns]"
      ]
     },
     "execution_count": 77,
     "metadata": {},
     "output_type": "execute_result"
    }
   ],
   "source": [
    "from sklearn import metrics\n",
    "\n",
    "#ROC CURVE\n",
    "# Determine the false positive and true positive rates\n",
    "y_pred_proba = clf.predict_proba(x_test)[:,1]\n",
    "fpr, tpr, threshold = metrics.roc_curve(y_test, y_pred_proba)\n",
    "\n",
    "roc_df = pd.DataFrame(zip(fpr, tpr, threshold), columns = ['FPR', 'TPR', 'threshold'])\n",
    "roc_df"
   ]
  },
  {
   "cell_type": "code",
   "execution_count": 86,
   "id": "d4df4321-5d9e-43b8-b9e5-c53afce29699",
   "metadata": {},
   "outputs": [
    {
     "data": {
      "image/png": "[encoded data removed]",
      "text/plain": [
       "<Figure size 1080x1440 with 1 Axes>"
      ]
     },
     "metadata": {
      "needs_background": "light"
     },
     "output_type": "display_data"
    }
   ],
   "source": [
    "# Plot of a ROC curve for a specific class\n",
    "plt.figure(figsize = (15,20))\n",
    "plt.plot(fpr, tpr, label='ROC curve (area = %0.2f)' % roc_auc) \n",
    "#plt.plot([0, 1], [0, 1], 'k--')\n",
    "plt.xlim([0.0, 1.0])\n",
    "plt.ylim([0.0, 1.05])\n",
    "plt.xlabel('False Positive Rate')\n",
    "plt.ylabel('True Positive Rate')\n",
    "plt.title('ROC Curve')\n",
    "plt.legend(loc=\"lower right\")\n",
    "plt.show()"
   ]
  },
  {
   "cell_type": "code",
   "execution_count": 117,
   "id": "83f021c0-5d74-4f15-9f7b-95e84ff4df7d",
   "metadata": {},
   "outputs": [
    {
     "data": {
      "application/vnd.jupyter.widget-view+json": {
       "model_id": "00c7a6538220428495b92ac361b65f25",
       "version_major": 2,
       "version_minor": 0
      },
      "text/plain": [
       "  0%|          | 0/3435 [00:00<?, ?it/s]"
      ]
     },
     "metadata": {},
     "output_type": "display_data"
    }
   ],
   "source": [
    "'''\n",
    "This code is to run all threshold and returns the balance accuracy for each threshold. \n",
    "'''\n",
    "\n",
    "from tqdm.notebook import tqdm\n",
    "\n",
    "list_acc = []\n",
    "result = []\n",
    "\n",
    "pbar = tqdm(total = len(roc_df))\n",
    "for i in roc_df['threshold']:\n",
    "    pbar.update(1)\n",
    "        \n",
    "    y_pred_new_threshold = (clf.predict_proba(x_test)[:, 1] >= i).astype(int)\n",
    "    balanced_accuracy = balanced_accuracy_score(y_test, y_pred_new_threshold)\n",
    "    list_acc+=[[i,balanced_accuracy]]\n",
    "pbar.close()"
   ]
  },
  {
   "cell_type": "code",
   "execution_count": 125,
   "id": "3e8091b9-4508-4687-aa8e-9d39761b2869",
   "metadata": {},
   "outputs": [],
   "source": [
    "test = pd.DataFrame(list_acc, columns = ['threshold','balance_acc'])"
   ]
  },
  {
   "cell_type": "code",
   "execution_count": 124,
   "id": "38112d4d-a387-4b42-ae7c-3cb2e7867548",
   "metadata": {},
   "outputs": [
    {
     "data": {
      "text/html": [
       "<div>\n",
       "<style scoped>\n",
       "    .dataframe tbody tr th:only-of-type {\n",
       "        vertical-align: middle;\n",
       "    }\n",
       "\n",
       "    .dataframe tbody tr th {\n",
       "        vertical-align: top;\n",
       "    }\n",
       "\n",
       "    .dataframe thead th {\n",
       "        text-align: right;\n",
       "    }\n",
       "</style>\n",
       "<table border=\"1\" class=\"dataframe\">\n",
       "  <thead>\n",
       "    <tr style=\"text-align: right;\">\n",
       "      <th></th>\n",
       "      <th>threshold</th>\n",
       "      <th>balance_acc</th>\n",
       "    </tr>\n",
       "  </thead>\n",
       "  <tbody>\n",
       "    <tr>\n",
       "      <th>1997</th>\n",
       "      <td>0.008933</td>\n",
       "      <td>0.750135</td>\n",
       "    </tr>\n",
       "    <tr>\n",
       "      <th>1998</th>\n",
       "      <td>0.008932</td>\n",
       "      <td>0.750131</td>\n",
       "    </tr>\n",
       "    <tr>\n",
       "      <th>1999</th>\n",
       "      <td>0.008932</td>\n",
       "      <td>0.750364</td>\n",
       "    </tr>\n",
       "    <tr>\n",
       "      <th>2000</th>\n",
       "      <td>0.008931</td>\n",
       "      <td>0.750344</td>\n",
       "    </tr>\n",
       "    <tr>\n",
       "      <th>2001</th>\n",
       "      <td>0.008931</td>\n",
       "      <td>0.750577</td>\n",
       "    </tr>\n",
       "    <tr>\n",
       "      <th>...</th>\n",
       "      <td>...</td>\n",
       "      <td>...</td>\n",
       "    </tr>\n",
       "    <tr>\n",
       "      <th>2153</th>\n",
       "      <td>0.007673</td>\n",
       "      <td>0.751048</td>\n",
       "    </tr>\n",
       "    <tr>\n",
       "      <th>2154</th>\n",
       "      <td>0.007621</td>\n",
       "      <td>0.750293</td>\n",
       "    </tr>\n",
       "    <tr>\n",
       "      <th>2155</th>\n",
       "      <td>0.007621</td>\n",
       "      <td>0.750527</td>\n",
       "    </tr>\n",
       "    <tr>\n",
       "      <th>2156</th>\n",
       "      <td>0.007599</td>\n",
       "      <td>0.750184</td>\n",
       "    </tr>\n",
       "    <tr>\n",
       "      <th>2157</th>\n",
       "      <td>0.007599</td>\n",
       "      <td>0.750417</td>\n",
       "    </tr>\n",
       "  </tbody>\n",
       "</table>\n",
       "<p>161 rows × 2 columns</p>\n",
       "</div>"
      ],
      "text/plain": [
       "      threshold  balance_acc\n",
       "1997   0.008933     0.750135\n",
       "1998   0.008932     0.750131\n",
       "1999   0.008932     0.750364\n",
       "2000   0.008931     0.750344\n",
       "2001   0.008931     0.750577\n",
       "...         ...          ...\n",
       "2153   0.007673     0.751048\n",
       "2154   0.007621     0.750293\n",
       "2155   0.007621     0.750527\n",
       "2156   0.007599     0.750184\n",
       "2157   0.007599     0.750417\n",
       "\n",
       "[161 rows x 2 columns]"
      ]
     },
     "execution_count": 124,
     "metadata": {},
     "output_type": "execute_result"
    }
   ],
   "source": [
    "test[test['balance_acc']>0.75]"
   ]
  },
  {
   "cell_type": "markdown",
   "id": "4a7c263c-209f-4c9c-b0f1-26616e91e65c",
   "metadata": {},
   "source": [
    "We found that the highest balanced accuracy the model can return is 75% with the probability threshold is 0.008 (is quite not make sense for our data) ==> We will do not use Logistic Regression"
   ]
  },
  {
   "cell_type": "markdown",
   "id": "8ae087fe-87b8-4fec-9c68-df3ddf234b5b",
   "metadata": {
    "jp-MarkdownHeadingCollapsed": true,
    "tags": []
   },
   "source": [
    "#### **Decision Tree:**"
   ]
  },
  {
   "cell_type": "code",
   "execution_count": null,
   "id": "73072179-287a-4ff6-b95a-d0e61335aad7",
   "metadata": {},
   "outputs": [],
   "source": [
    "from sklearn import tree\n",
    "\n",
    "clf = tree.DecisionTreeClassifier()\n",
    "clf.fit(x_train,y_train)"
   ]
  },
  {
   "cell_type": "code",
   "execution_count": null,
   "id": "6a506e0c-dcb9-4755-b2af-89fe993c5880",
   "metadata": {},
   "outputs": [],
   "source": [
    "y_tree_pre_train = clf.predict(x_train)\n",
    "y_tree_pre_test = clf.predict(x_test)"
   ]
  },
  {
   "cell_type": "code",
   "execution_count": null,
   "id": "d33ed39b-fc2d-41d1-a023-1599e374dbe3",
   "metadata": {},
   "outputs": [],
   "source": [
    "print(f'Balance accuracy of train set: {balanced_accuracy_score(y_train, y_tree_pre_train)}')\n",
    "print(f'Balance accuracy of test set: {balanced_accuracy_score(y_test, y_tree_pre_test)}')"
   ]
  },
  {
   "cell_type": "code",
   "execution_count": null,
   "id": "13d956fb-160c-4103-9380-9cfa87127a10",
   "metadata": {},
   "outputs": [],
   "source": [
    "from sklearn.metrics import confusion_matrix, ConfusionMatrixDisplay\n",
    "\n",
    "cm = confusion_matrix(y_test, y_tree_pre_test, labels=clf.classes_)\n",
    "disp = ConfusionMatrixDisplay(confusion_matrix=cm, display_labels=clf.classes_)\n",
    "disp.plot()"
   ]
  },
  {
   "cell_type": "code",
   "execution_count": null,
   "id": "3e6b62c1-3155-455e-9b9f-11fdaf51dc18",
   "metadata": {},
   "outputs": [],
   "source": [
    "feats = {} # a dict to hold feature_name: feature_importance\n",
    "for feature, importance in zip(x_test.columns, clf.feature_importances_):\n",
    "    feats[feature] = importance #add the name/value pair \n",
    "\n",
    "importances = pd.DataFrame.from_dict(feats, orient='index').rename(columns={0: 'Gini-importance'})\n",
    "importances = importances.sort_values(by='Gini-importance', ascending=True)\n",
    "\n",
    "importances = importances.reset_index()"
   ]
  },
  {
   "cell_type": "code",
   "execution_count": null,
   "id": "302c289d-1e3d-4018-99dd-4f825c03b96b",
   "metadata": {},
   "outputs": [],
   "source": [
    "# Create bar chart\n",
    "plt.figure(figsize=(10, 10))\n",
    "plt.barh(importances.tail(20)['index'][:20], importances.tail(20)['Gini-importance'])\n",
    "\n",
    "# Add labels and title\n",
    "# plt.xlabel('Category')\n",
    "# plt.ylabel('Value')\n",
    "plt.title('Feature Important')\n",
    "\n",
    "# Show plot\n",
    "plt.show()"
   ]
  },
  {
   "cell_type": "markdown",
   "id": "3890e5ad-87e4-4ad9-8243-0b53e3dbf136",
   "metadata": {},
   "source": [
    "The accuracy of Logistic Regression is 77% --> Amt is the high important feature that model considered when calculating"
   ]
  },
  {
   "cell_type": "markdown",
   "id": "835398ad-9a05-489c-a4dc-8e08a71c61b6",
   "metadata": {
    "jp-MarkdownHeadingCollapsed": true,
    "tags": []
   },
   "source": [
    "#### **Random Forest:**"
   ]
  },
  {
   "cell_type": "code",
   "execution_count": null,
   "id": "b302c27f-f7b0-4c31-b642-86e9ab913da7",
   "metadata": {},
   "outputs": [],
   "source": [
    "from sklearn.ensemble import RandomForestClassifier\n",
    "\n",
    "clf = RandomForestClassifier(max_depth=2, random_state=0)\n",
    "\n",
    "clf.fit(x_train, y_train)\n",
    "y_ranf_pre_train = clf.predict(x_train)\n",
    "\n",
    "y_ranf_pre_test = clf.predict(x_test)"
   ]
  },
  {
   "cell_type": "code",
   "execution_count": null,
   "id": "4274b1ed-adbb-4269-ba80-2e1e079b5c97",
   "metadata": {},
   "outputs": [],
   "source": [
    "print(f'Balance accuracy of train set: {balanced_accuracy_score(y_train, y_tree_pre_train)}')\n",
    "print(f'Balance accuracy of test set: {balanced_accuracy_score(y_test, y_tree_pre_test)}')"
   ]
  },
  {
   "cell_type": "markdown",
   "id": "3bee7b82-30c8-4d44-8e52-48bafe1018da",
   "metadata": {},
   "source": [
    "### Conclusion: \n",
    "\n",
    "The balance accuracy: \n",
    "* Logistic Regression: 50%\n",
    "* Decision Tree: 77%\n",
    "* Random Forest: 77% \n",
    "* --> We will choose Decision Tree or Random Forest"
   ]
  }
 ],
 "metadata": {
  "kernelspec": {
   "display_name": "Python 3 (ipykernel)",
   "language": "python",
   "name": "python3"
  },
  "language_info": {
   "codemirror_mode": {
    "name": "ipython",
    "version": 3
   },
   "file_extension": ".py",
   "mimetype": "text/x-python",
   "name": "python",
   "nbconvert_exporter": "python",
   "pygments_lexer": "ipython3",
   "version": "3.10.9"
  }
 },
 "nbformat": 4,
 "nbformat_minor": 5
}
